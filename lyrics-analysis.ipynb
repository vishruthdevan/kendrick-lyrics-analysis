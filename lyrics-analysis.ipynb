{
 "cells": [
  {
   "cell_type": "code",
   "execution_count": 1,
   "metadata": {},
   "outputs": [],
   "source": [
    "import pandas as pd"
   ]
  },
  {
   "cell_type": "code",
   "execution_count": 2,
   "id": "17637df7",
   "metadata": {},
   "outputs": [],
   "source": [
    "data = pd.read_csv('data/kendrick_lamar.csv')"
   ]
  },
  {
   "cell_type": "code",
   "execution_count": 9,
   "id": "f78eea5b",
   "metadata": {},
   "outputs": [
    {
     "name": "stdout",
     "output_type": "stream",
     "text": [
      "                Track Title Release Title Release Subtitle  Track #  \\\n",
      "0       Fuck Your Ethnicity    Section.80              NaN        1   \n",
      "1                   Hol' Up    Section.80              NaN        2   \n",
      "2                  A.D.H.D.    Section.80              NaN        3   \n",
      "3     No Make-Up (Her Vice)    Section.80              NaN        4   \n",
      "4  Tammy's Song (Her Evils)    Section.80              NaN        5   \n",
      "\n",
      "  Track Length (mm:ss)     Featuring Release Type  Release Type #  \\\n",
      "0                 3:44  Colin Munroe       Studio             1.0   \n",
      "1                 2:53           NaN       Studio             1.0   \n",
      "2                 3:35           NaN       Studio             1.0   \n",
      "3                 3:55           NaN       Studio             1.0   \n",
      "4                 2:41           NaN       Studio             1.0   \n",
      "\n",
      "  Release Date  # of Tracks  ... Jaguar Maserati McLaren Mercedes-Benz  \\\n",
      "0     2 Jul 11         16.0  ...    NaN      NaN     NaN           1.0   \n",
      "1     2 Jul 11         16.0  ...    1.0      NaN     NaN           NaN   \n",
      "2     2 Jul 11         16.0  ...    NaN      NaN     NaN           NaN   \n",
      "3     2 Jul 11         16.0  ...    NaN      NaN     NaN           NaN   \n",
      "4     2 Jul 11         16.0  ...    NaN      NaN     NaN           1.0   \n",
      "\n",
      "  Porsche Range Rover  RAV4 Silverado Toyota Van  \n",
      "0     NaN         NaN   NaN       NaN    NaN NaN  \n",
      "1     NaN         NaN   1.0       NaN    NaN NaN  \n",
      "2     NaN         NaN   NaN       NaN    NaN NaN  \n",
      "3     NaN         NaN   NaN       NaN    NaN NaN  \n",
      "4     NaN         NaN   NaN       NaN    NaN NaN  \n",
      "\n",
      "[5 rows x 238 columns]\n",
      "0    Gather 'round\\n I'm glad everybody came out to...\n",
      "1    I wrote this record while thirty thousand feet...\n",
      "2    Uh-uh, fuck that\\n Eight doobies to the face, ...\n",
      "3    I love the way you put it on your eyes\\n The r...\n",
      "4    Don't judge me\\n I know this girl, she a real ...\n",
      "Name: Lyrics, dtype: object\n"
     ]
    }
   ],
   "source": [
    "print(data.head())\n",
    "print(data['Lyrics'].head())"
   ]
  },
  {
   "cell_type": "code",
   "execution_count": 5,
   "id": "aa79bc68",
   "metadata": {},
   "outputs": [
    {
     "data": {
      "text/plain": [
       "237"
      ]
     },
     "execution_count": 5,
     "metadata": {},
     "output_type": "execute_result"
    }
   ],
   "source": []
  }
 ],
 "metadata": {
  "interpreter": {
   "hash": "c774f8753f60dbf4aa57a14cb39d0d874a7eb06ee0d91865f47ca25147f31953"
  },
  "kernelspec": {
   "display_name": "Python 3.9.7 ('tensor')",
   "language": "python",
   "name": "python3"
  },
  "language_info": {
   "codemirror_mode": {
    "name": "ipython",
    "version": 3
   },
   "file_extension": ".py",
   "mimetype": "text/x-python",
   "name": "python",
   "nbconvert_exporter": "python",
   "pygments_lexer": "ipython3",
   "version": "3.9.7"
  }
 },
 "nbformat": 4,
 "nbformat_minor": 5
}
