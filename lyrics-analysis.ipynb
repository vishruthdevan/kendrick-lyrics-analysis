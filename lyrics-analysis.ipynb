{
 "cells": [
  {
   "cell_type": "code",
   "execution_count": 6,
   "metadata": {},
   "outputs": [],
   "source": [
    "import pandas as pd"
   ]
  },
  {
   "cell_type": "code",
   "execution_count": 13,
   "id": "17637df7",
   "metadata": {},
   "outputs": [],
   "source": [
    "data = pd.read_csv('data/kendrick_lamar.csv')"
   ]
  },
  {
   "cell_type": "code",
   "execution_count": 8,
   "id": "f78eea5b",
   "metadata": {},
   "outputs": [
    {
     "name": "stdout",
     "output_type": "stream",
     "text": [
      "                Track Title Release Title Release Subtitle  Track #  \\\n",
      "0       Fuck Your Ethnicity    Section.80              NaN        1   \n",
      "1                   Hol' Up    Section.80              NaN        2   \n",
      "2                  A.D.H.D.    Section.80              NaN        3   \n",
      "3     No Make-Up (Her Vice)    Section.80              NaN        4   \n",
      "4  Tammy's Song (Her Evils)    Section.80              NaN        5   \n",
      "\n",
      "  Track Length (mm:ss)     Featuring Release Type  Release Type #  \\\n",
      "0                 3:44  Colin Munroe       Studio             1.0   \n",
      "1                 2:53           NaN       Studio             1.0   \n",
      "2                 3:35           NaN       Studio             1.0   \n",
      "3                 3:55           NaN       Studio             1.0   \n",
      "4                 2:41           NaN       Studio             1.0   \n",
      "\n",
      "  Release Date  # of Tracks  ... Jaguar Maserati McLaren Mercedes-Benz  \\\n",
      "0     2 Jul 11         16.0  ...    NaN      NaN     NaN           1.0   \n",
      "1     2 Jul 11         16.0  ...    1.0      NaN     NaN           NaN   \n",
      "2     2 Jul 11         16.0  ...    NaN      NaN     NaN           NaN   \n",
      "3     2 Jul 11         16.0  ...    NaN      NaN     NaN           NaN   \n",
      "4     2 Jul 11         16.0  ...    NaN      NaN     NaN           1.0   \n",
      "\n",
      "  Porsche Range Rover  RAV4 Silverado Toyota Van  \n",
      "0     NaN         NaN   NaN       NaN    NaN NaN  \n",
      "1     NaN         NaN   1.0       NaN    NaN NaN  \n",
      "2     NaN         NaN   NaN       NaN    NaN NaN  \n",
      "3     NaN         NaN   NaN       NaN    NaN NaN  \n",
      "4     NaN         NaN   NaN       NaN    NaN NaN  \n",
      "\n",
      "[5 rows x 238 columns]\n",
      "0    Gather 'round\\n I'm glad everybody came out to...\n",
      "1    I wrote this record while thirty thousand feet...\n",
      "2    Uh-uh, fuck that\\n Eight doobies to the face, ...\n",
      "3    I love the way you put it on your eyes\\n The r...\n",
      "4    Don't judge me\\n I know this girl, she a real ...\n",
      "Name: Lyrics, dtype: object\n"
     ]
    }
   ],
   "source": [
    "print(data.head())\n",
    "print(data['Lyrics'].head())"
   ]
  },
  {
   "cell_type": "code",
   "execution_count": 9,
   "id": "aa79bc68",
   "metadata": {},
   "outputs": [
    {
     "name": "stdout",
     "output_type": "stream",
     "text": [
      "Gather 'round\n",
      " I'm glad everybody came out tonight\n",
      " As we stand on our neighborhood corner\n",
      " Know that this fire that's burning represents the passion you have\n",
      " Listen\n",
      " Keisha, Tammy, come up front\n",
      " I recognize all of you\n",
      " Every creed and color\n",
      " With that being said\n",
      " Fuck your ethnicity\n",
      " You understand that?\n",
      " We gon' talk about a lot of shit that concerns you, all of you\n",
      " Now everybody, throw your hands up high\n",
      " If you don't give a fuck, throw your hands up high\n",
      " Throw your hands up high\n",
      " Now, I don't give a fuck if you\n",
      " Black, white, Asian, Hispanic, goddammit\n",
      " That don't mean shit to me\n",
      " Fuck your ethnicity, nigga\n",
      " Fire burning inside my eyes, this the music that saved my life\n",
      " Y'all be calling it hip-hop, I be calling it hypnotize\n",
      " Yeah, hypnotize, trapped my body, but freed my mind\n",
      " What the fuck are you fighting for? Ain't nobody gon' win that war\n",
      " My details be retail, man, I got so much in store\n",
      " Racism is still alive, yellow tape and colored lines\n",
      " Fuck that, nigga, look at that line, it's so diverse\n",
      " They gettin' off work and they wanna see Kendrick\n",
      " Everybody can't drive Benzes, and I been there, so I make it my business\n",
      " To give 'em my full attention, ten-hut, man, I gotta get my wind up\n",
      " Man, I gotta get down with God 'cause I got my sins up, ooh\n",
      " Matter fact, don't mistake me for no fuckin' rapper\n",
      " They sit backstage and hide behind them fuckin' cameras\n",
      " I mosh pit, had a microphone and I tossed it\n",
      " Had a brain, then I lost it\n",
      " I'm out of my mind, so don't you mind how much the cost is\n",
      " Penny for my thoughts, everybody, please hold up your wallets\n",
      " Yeah, man, I'm the mailman, can't you tell, man?\n",
      " Gone postal, never freeze up when I approach you\n",
      " That's starstruck and roast you, oh my\n",
      " HiiiPoWeR\n",
      " Reporting live from Planet Terminator X\n",
      " I saw Martin Luther King with an AK-47\n",
      " Now, I don't give a fuck if you\n",
      " Black, white, Asian, Hispanic, goddammit\n",
      " That don't mean shit to me\n",
      " Fuck your ethnicity, nigga\n",
      " I'm tired of y'all, 'cause everybody lied to y'all\n",
      " And you believe it? Recognize them false achievements\n",
      " It's treason and I'm Tylenol, I knock out when you knock it off\n",
      " Knock on the doors of opportunity, I'm too involved\n",
      " I'm no activist, I'm no Einstein\n",
      " Before calculus, I was kicking that math\n",
      " Dropping that science like an alchemist and I be kicking that ass\n",
      " Lyrically, I'm UFC\n",
      " If a UFO had came for me, I'ma come back with the head of an alien\n",
      " Don't alienate my dreams\n",
      " Get it right, get a life, I got two\n",
      " That's a metaphor for the big shit I do\n",
      " Boy, TMI, TSA, man, I'm fly\n",
      " Put wings on my back\n",
      " That a plane or an angel? Both\n",
      " Like a pilot with a halo, woah\n",
      " Gross\n",
      " I mean, I've seen so many things come through them, him, her, you, mmm, mmm, mmm, mmm\n",
      " I'm just a messenger\n",
      " Yeah, I know life's a bitch, get the best of her\n",
      " Put them threes up, they notice that we up\n",
      " HiiiPoWeR and the power in the people and if they don't believe us\n",
      " They'll die\n",
      " Wizard\n",
      " Now, I don't give a fuck if you\n",
      " Black, white, Asian, Hispanic, goddammit\n",
      " That don't mean shit to me\n",
      " Fuck your ethnicity, nigga\n"
     ]
    }
   ],
   "source": [
    "print(data['Lyrics'][0])"
   ]
  },
  {
   "cell_type": "code",
   "execution_count": 10,
   "id": "6a981200",
   "metadata": {},
   "outputs": [],
   "source": [
    "from sklearn.feature_extraction.text import TfidfVectorizer\n",
    "from nltk.corpus import stopwords\n",
    "import nltk"
   ]
  },
  {
   "cell_type": "code",
   "execution_count": 11,
   "id": "c532c638",
   "metadata": {},
   "outputs": [
    {
     "name": "stderr",
     "output_type": "stream",
     "text": [
      "[nltk_data] Downloading package stopwords to\n",
      "[nltk_data]     C:\\Users\\vishruth\\AppData\\Roaming\\nltk_data...\n",
      "[nltk_data]   Package stopwords is already up-to-date!\n"
     ]
    },
    {
     "data": {
      "text/plain": [
       "True"
      ]
     },
     "execution_count": 11,
     "metadata": {},
     "output_type": "execute_result"
    }
   ],
   "source": [
    "nltk.download('stopwords')"
   ]
  },
  {
   "cell_type": "code",
   "execution_count": 15,
   "id": "ca65830a",
   "metadata": {},
   "outputs": [],
   "source": [
    "stop_words = stopwords.words('english')\n",
    "vectorizer = TfidfVectorizer(stop_words = stop_words, min_df = 0.1)\n",
    "tfidf = vectorizer.fit_transform(data['Lyrics'].values.astype('U'))"
   ]
  }
 ],
 "metadata": {
  "interpreter": {
   "hash": "c774f8753f60dbf4aa57a14cb39d0d874a7eb06ee0d91865f47ca25147f31953"
  },
  "kernelspec": {
   "display_name": "Python 3.9.7 ('tensor')",
   "language": "python",
   "name": "python3"
  },
  "language_info": {
   "codemirror_mode": {
    "name": "ipython",
    "version": 3
   },
   "file_extension": ".py",
   "mimetype": "text/x-python",
   "name": "python",
   "nbconvert_exporter": "python",
   "pygments_lexer": "ipython3",
   "version": "3.9.7"
  }
 },
 "nbformat": 4,
 "nbformat_minor": 5
}
