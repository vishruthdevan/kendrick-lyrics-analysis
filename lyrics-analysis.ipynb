{
 "cells": [
  {
   "cell_type": "code",
   "execution_count": 2,
   "metadata": {},
   "outputs": [],
   "source": [
    "import pandas as pd"
   ]
  },
  {
   "cell_type": "code",
   "execution_count": 3,
   "id": "17637df7",
   "metadata": {},
   "outputs": [],
   "source": [
    "data = pd.read_csv('data/kendrick_lamar.csv')"
   ]
  },
  {
   "cell_type": "code",
   "execution_count": 4,
   "id": "f78eea5b",
   "metadata": {},
   "outputs": [
    {
     "name": "stdout",
     "output_type": "stream",
     "text": [
      "                Track Title Release Title Release Subtitle  Track #  \\\n",
      "0       Fuck Your Ethnicity    Section.80              NaN        1   \n",
      "1                   Hol' Up    Section.80              NaN        2   \n",
      "2                  A.D.H.D.    Section.80              NaN        3   \n",
      "3     No Make-Up (Her Vice)    Section.80              NaN        4   \n",
      "4  Tammy's Song (Her Evils)    Section.80              NaN        5   \n",
      "\n",
      "  Track Length (mm:ss)     Featuring Release Type  Release Type #  \\\n",
      "0                 3:44  Colin Munroe       Studio             1.0   \n",
      "1                 2:53           NaN       Studio             1.0   \n",
      "2                 3:35           NaN       Studio             1.0   \n",
      "3                 3:55           NaN       Studio             1.0   \n",
      "4                 2:41           NaN       Studio             1.0   \n",
      "\n",
      "  Release Date  # of Tracks  ... Jaguar Maserati McLaren Mercedes-Benz  \\\n",
      "0     2 Jul 11         16.0  ...    NaN      NaN     NaN           1.0   \n",
      "1     2 Jul 11         16.0  ...    1.0      NaN     NaN           NaN   \n",
      "2     2 Jul 11         16.0  ...    NaN      NaN     NaN           NaN   \n",
      "3     2 Jul 11         16.0  ...    NaN      NaN     NaN           NaN   \n",
      "4     2 Jul 11         16.0  ...    NaN      NaN     NaN           1.0   \n",
      "\n",
      "  Porsche Range Rover  RAV4 Silverado Toyota Van  \n",
      "0     NaN         NaN   NaN       NaN    NaN NaN  \n",
      "1     NaN         NaN   1.0       NaN    NaN NaN  \n",
      "2     NaN         NaN   NaN       NaN    NaN NaN  \n",
      "3     NaN         NaN   NaN       NaN    NaN NaN  \n",
      "4     NaN         NaN   NaN       NaN    NaN NaN  \n",
      "\n",
      "[5 rows x 238 columns]\n",
      "0    Gather 'round\\n I'm glad everybody came out to...\n",
      "1    I wrote this record while thirty thousand feet...\n",
      "2    Uh-uh, fuck that\\n Eight doobies to the face, ...\n",
      "3    I love the way you put it on your eyes\\n The r...\n",
      "4    Don't judge me\\n I know this girl, she a real ...\n",
      "Name: Lyrics, dtype: object\n"
     ]
    }
   ],
   "source": [
    "print(data.head())\n",
    "print(data['Lyrics'].head())"
   ]
  },
  {
   "cell_type": "code",
   "execution_count": 5,
   "id": "aa79bc68",
   "metadata": {},
   "outputs": [
    {
     "name": "stdout",
     "output_type": "stream",
     "text": [
      "Gather 'round\n",
      " I'm glad everybody came out tonight\n",
      " As we stand on our neighborhood corner\n",
      " Know that this fire that's burning represents the passion you have\n",
      " Listen\n",
      " Keisha, Tammy, come up front\n",
      " I recognize all of you\n",
      " Every creed and color\n",
      " With that being said\n",
      " Fuck your ethnicity\n",
      " You understand that?\n",
      " We gon' talk about a lot of shit that concerns you, all of you\n",
      " Now everybody, throw your hands up high\n",
      " If you don't give a fuck, throw your hands up high\n",
      " Throw your hands up high\n",
      " Now, I don't give a fuck if you\n",
      " Black, white, Asian, Hispanic, goddammit\n",
      " That don't mean shit to me\n",
      " Fuck your ethnicity, nigga\n",
      " Fire burning inside my eyes, this the music that saved my life\n",
      " Y'all be calling it hip-hop, I be calling it hypnotize\n",
      " Yeah, hypnotize, trapped my body, but freed my mind\n",
      " What the fuck are you fighting for? Ain't nobody gon' win that war\n",
      " My details be retail, man, I got so much in store\n",
      " Racism is still alive, yellow tape and colored lines\n",
      " Fuck that, nigga, look at that line, it's so diverse\n",
      " They gettin' off work and they wanna see Kendrick\n",
      " Everybody can't drive Benzes, and I been there, so I make it my business\n",
      " To give 'em my full attention, ten-hut, man, I gotta get my wind up\n",
      " Man, I gotta get down with God 'cause I got my sins up, ooh\n",
      " Matter fact, don't mistake me for no fuckin' rapper\n",
      " They sit backstage and hide behind them fuckin' cameras\n",
      " I mosh pit, had a microphone and I tossed it\n",
      " Had a brain, then I lost it\n",
      " I'm out of my mind, so don't you mind how much the cost is\n",
      " Penny for my thoughts, everybody, please hold up your wallets\n",
      " Yeah, man, I'm the mailman, can't you tell, man?\n",
      " Gone postal, never freeze up when I approach you\n",
      " That's starstruck and roast you, oh my\n",
      " HiiiPoWeR\n",
      " Reporting live from Planet Terminator X\n",
      " I saw Martin Luther King with an AK-47\n",
      " Now, I don't give a fuck if you\n",
      " Black, white, Asian, Hispanic, goddammit\n",
      " That don't mean shit to me\n",
      " Fuck your ethnicity, nigga\n",
      " I'm tired of y'all, 'cause everybody lied to y'all\n",
      " And you believe it? Recognize them false achievements\n",
      " It's treason and I'm Tylenol, I knock out when you knock it off\n",
      " Knock on the doors of opportunity, I'm too involved\n",
      " I'm no activist, I'm no Einstein\n",
      " Before calculus, I was kicking that math\n",
      " Dropping that science like an alchemist and I be kicking that ass\n",
      " Lyrically, I'm UFC\n",
      " If a UFO had came for me, I'ma come back with the head of an alien\n",
      " Don't alienate my dreams\n",
      " Get it right, get a life, I got two\n",
      " That's a metaphor for the big shit I do\n",
      " Boy, TMI, TSA, man, I'm fly\n",
      " Put wings on my back\n",
      " That a plane or an angel? Both\n",
      " Like a pilot with a halo, woah\n",
      " Gross\n",
      " I mean, I've seen so many things come through them, him, her, you, mmm, mmm, mmm, mmm\n",
      " I'm just a messenger\n",
      " Yeah, I know life's a bitch, get the best of her\n",
      " Put them threes up, they notice that we up\n",
      " HiiiPoWeR and the power in the people and if they don't believe us\n",
      " They'll die\n",
      " Wizard\n",
      " Now, I don't give a fuck if you\n",
      " Black, white, Asian, Hispanic, goddammit\n",
      " That don't mean shit to me\n",
      " Fuck your ethnicity, nigga\n"
     ]
    }
   ],
   "source": [
    "print(data['Lyrics'][0])"
   ]
  },
  {
   "cell_type": "code",
   "execution_count": 6,
   "id": "6a981200",
   "metadata": {},
   "outputs": [],
   "source": [
    "from sklearn.feature_extraction.text import TfidfVectorizer\n",
    "from nltk.corpus import stopwords\n",
    "import nltk"
   ]
  },
  {
   "cell_type": "code",
   "execution_count": 7,
   "id": "c532c638",
   "metadata": {},
   "outputs": [
    {
     "name": "stderr",
     "output_type": "stream",
     "text": [
      "[nltk_data] Downloading package stopwords to\n",
      "[nltk_data]     C:\\Users\\vishruth\\AppData\\Roaming\\nltk_data...\n",
      "[nltk_data]   Package stopwords is already up-to-date!\n"
     ]
    },
    {
     "data": {
      "text/plain": [
       "True"
      ]
     },
     "execution_count": 7,
     "metadata": {},
     "output_type": "execute_result"
    }
   ],
   "source": [
    "nltk.download('stopwords')"
   ]
  },
  {
   "cell_type": "code",
   "execution_count": 8,
   "id": "ca65830a",
   "metadata": {},
   "outputs": [
    {
     "name": "stdout",
     "output_type": "stream",
     "text": [
      "Term-Document matrix shape:  (237, 344)\n",
      "No. of words:  344\n"
     ]
    }
   ],
   "source": [
    "stop_words = stopwords.words('english')\n",
    "stop_words.extend(['nigga', 'niggas', 'shit', 'fuck', 'fucking',\n",
    "                  'fucked', 'bitch', 'fuckin', 'go', 'got', 'gotta', 'oh', 'get', 'huh', 'yeah' ,'uh', 'man'])\n",
    "vectorizer = TfidfVectorizer(stop_words=stop_words, min_df=0.1)\n",
    "tfidf = vectorizer.fit_transform(data['Lyrics'].values.astype('U'))\n",
    "print(\"Term-Document matrix shape: \", tfidf.A.shape)\n",
    "print(\"No. of words: \", len(vectorizer.get_feature_names_out()))\n"
   ]
  },
  {
   "cell_type": "code",
   "execution_count": 9,
   "id": "cb4b2b3e",
   "metadata": {},
   "outputs": [],
   "source": [
    "from sklearn.decomposition import NMF"
   ]
  },
  {
   "cell_type": "code",
   "execution_count": 10,
   "id": "ba4a9c09",
   "metadata": {},
   "outputs": [
    {
     "name": "stdout",
     "output_type": "stream",
     "text": [
      "Topic weight for each lyric - matrix shape:  (237, 5)\n"
     ]
    }
   ],
   "source": [
    "nmf = NMF(n_components=5, init=\"nndsvda\")\n",
    "W = nmf.fit_transform(tfidf)\n",
    "print(\"Topic weight for each lyric - matrix shape: \", W.shape)"
   ]
  },
  {
   "cell_type": "code",
   "execution_count": 11,
   "id": "8daace79",
   "metadata": {},
   "outputs": [
    {
     "name": "stdout",
     "output_type": "stream",
     "text": [
      "Word weight for each topic - matrix:  (5, 344)\n"
     ]
    }
   ],
   "source": [
    "H = nmf.components_\n",
    "print(\"Word weight for each topic - matrix shape: \", H.shape)"
   ]
  },
  {
   "cell_type": "code",
   "execution_count": 12,
   "id": "087e8b58",
   "metadata": {},
   "outputs": [
    {
     "name": "stdout",
     "output_type": "stream",
     "text": [
      "Topic 1:\n",
      "said die one life want high time make inside back baby see two never live come tell need take good\n",
      "Topic 2:\n",
      "like top rock em ya back dot boy rap money jay yo new coast big dawg still pop west let\n",
      "Topic 3:\n",
      "feel like nobody god pussy everything way life stop kill something feeling talkin heart real always damn work em young\n",
      "Topic 4:\n",
      "love people wanna give keep time away real still us black run way need one feeling would night another money\n",
      "Topic 5:\n",
      "know mean day wanna really let kendrick city girl new say told business hoes compton used real bout talk today\n"
     ]
    }
   ],
   "source": [
    "for i, topic in enumerate(H):\n",
    "    print(f'Topic {i+1}:')\n",
    "    print(\" \".join(vectorizer.get_feature_names_out()[i] for i in topic.argsort() [:-21:-1]))"
   ]
  },
  {
   "cell_type": "code",
   "execution_count": 13,
   "id": "200a3698",
   "metadata": {},
   "outputs": [
    {
     "data": {
      "text/plain": [
       "(237, 5)"
      ]
     },
     "execution_count": 13,
     "metadata": {},
     "output_type": "execute_result"
    }
   ],
   "source": [
    "topic_labels = ['life and death', 'hip-hop', 'sentiment', 'love', 'himself']\n",
    "topic_values = W\n",
    "topic_values.shape"
   ]
  },
  {
   "cell_type": "code",
   "execution_count": 14,
   "id": "93b9d88d",
   "metadata": {},
   "outputs": [
    {
     "data": {
      "text/html": [
       "<div>\n",
       "<style scoped>\n",
       "    .dataframe tbody tr th:only-of-type {\n",
       "        vertical-align: middle;\n",
       "    }\n",
       "\n",
       "    .dataframe tbody tr th {\n",
       "        vertical-align: top;\n",
       "    }\n",
       "\n",
       "    .dataframe thead th {\n",
       "        text-align: right;\n",
       "    }\n",
       "</style>\n",
       "<table border=\"1\" class=\"dataframe\">\n",
       "  <thead>\n",
       "    <tr style=\"text-align: right;\">\n",
       "      <th></th>\n",
       "      <th>life and death</th>\n",
       "      <th>hip-hop</th>\n",
       "      <th>sentiment</th>\n",
       "      <th>love</th>\n",
       "      <th>himself</th>\n",
       "    </tr>\n",
       "  </thead>\n",
       "  <tbody>\n",
       "    <tr>\n",
       "      <th>0</th>\n",
       "      <td>0.161416</td>\n",
       "      <td>0.031569</td>\n",
       "      <td>0.005612</td>\n",
       "      <td>0.022458</td>\n",
       "      <td>0.107169</td>\n",
       "    </tr>\n",
       "    <tr>\n",
       "      <th>1</th>\n",
       "      <td>0.104418</td>\n",
       "      <td>0.115086</td>\n",
       "      <td>0.000000</td>\n",
       "      <td>0.000000</td>\n",
       "      <td>0.033161</td>\n",
       "    </tr>\n",
       "    <tr>\n",
       "      <th>2</th>\n",
       "      <td>0.142371</td>\n",
       "      <td>0.061826</td>\n",
       "      <td>0.084336</td>\n",
       "      <td>0.043765</td>\n",
       "      <td>0.074203</td>\n",
       "    </tr>\n",
       "    <tr>\n",
       "      <th>3</th>\n",
       "      <td>0.038661</td>\n",
       "      <td>0.000000</td>\n",
       "      <td>0.027829</td>\n",
       "      <td>0.113632</td>\n",
       "      <td>0.177251</td>\n",
       "    </tr>\n",
       "    <tr>\n",
       "      <th>4</th>\n",
       "      <td>0.095714</td>\n",
       "      <td>0.094015</td>\n",
       "      <td>0.000000</td>\n",
       "      <td>0.041016</td>\n",
       "      <td>0.115280</td>\n",
       "    </tr>\n",
       "    <tr>\n",
       "      <th>...</th>\n",
       "      <td>...</td>\n",
       "      <td>...</td>\n",
       "      <td>...</td>\n",
       "      <td>...</td>\n",
       "      <td>...</td>\n",
       "    </tr>\n",
       "    <tr>\n",
       "      <th>232</th>\n",
       "      <td>0.021584</td>\n",
       "      <td>0.045298</td>\n",
       "      <td>0.000000</td>\n",
       "      <td>0.000313</td>\n",
       "      <td>0.054635</td>\n",
       "    </tr>\n",
       "    <tr>\n",
       "      <th>233</th>\n",
       "      <td>0.049321</td>\n",
       "      <td>0.217916</td>\n",
       "      <td>0.000000</td>\n",
       "      <td>0.013450</td>\n",
       "      <td>0.019778</td>\n",
       "    </tr>\n",
       "    <tr>\n",
       "      <th>234</th>\n",
       "      <td>0.166474</td>\n",
       "      <td>0.082181</td>\n",
       "      <td>0.002994</td>\n",
       "      <td>0.037250</td>\n",
       "      <td>0.120159</td>\n",
       "    </tr>\n",
       "    <tr>\n",
       "      <th>235</th>\n",
       "      <td>0.135927</td>\n",
       "      <td>0.071965</td>\n",
       "      <td>0.000000</td>\n",
       "      <td>0.082603</td>\n",
       "      <td>0.000000</td>\n",
       "    </tr>\n",
       "    <tr>\n",
       "      <th>236</th>\n",
       "      <td>0.007949</td>\n",
       "      <td>0.015887</td>\n",
       "      <td>0.009506</td>\n",
       "      <td>0.439542</td>\n",
       "      <td>0.049977</td>\n",
       "    </tr>\n",
       "  </tbody>\n",
       "</table>\n",
       "<p>237 rows × 5 columns</p>\n",
       "</div>"
      ],
      "text/plain": [
       "     life and death   hip-hop  sentiment      love   himself\n",
       "0          0.161416  0.031569   0.005612  0.022458  0.107169\n",
       "1          0.104418  0.115086   0.000000  0.000000  0.033161\n",
       "2          0.142371  0.061826   0.084336  0.043765  0.074203\n",
       "3          0.038661  0.000000   0.027829  0.113632  0.177251\n",
       "4          0.095714  0.094015   0.000000  0.041016  0.115280\n",
       "..              ...       ...        ...       ...       ...\n",
       "232        0.021584  0.045298   0.000000  0.000313  0.054635\n",
       "233        0.049321  0.217916   0.000000  0.013450  0.019778\n",
       "234        0.166474  0.082181   0.002994  0.037250  0.120159\n",
       "235        0.135927  0.071965   0.000000  0.082603  0.000000\n",
       "236        0.007949  0.015887   0.009506  0.439542  0.049977\n",
       "\n",
       "[237 rows x 5 columns]"
      ]
     },
     "execution_count": 14,
     "metadata": {},
     "output_type": "execute_result"
    }
   ],
   "source": [
    "topic_data_frame = pd.DataFrame(topic_values, columns = topic_labels)\n",
    "topic_data_frame"
   ]
  },
  {
   "cell_type": "code",
   "execution_count": 16,
   "id": "f53ad4a8",
   "metadata": {},
   "outputs": [
    {
     "data": {
      "text/html": [
       "<div>\n",
       "<style scoped>\n",
       "    .dataframe tbody tr th:only-of-type {\n",
       "        vertical-align: middle;\n",
       "    }\n",
       "\n",
       "    .dataframe tbody tr th {\n",
       "        vertical-align: top;\n",
       "    }\n",
       "\n",
       "    .dataframe thead th {\n",
       "        text-align: right;\n",
       "    }\n",
       "</style>\n",
       "<table border=\"1\" class=\"dataframe\">\n",
       "  <thead>\n",
       "    <tr style=\"text-align: right;\">\n",
       "      <th></th>\n",
       "      <th>Track Title</th>\n",
       "      <th>Release Title</th>\n",
       "      <th>Release Subtitle</th>\n",
       "      <th>Track #</th>\n",
       "      <th>Track Length (mm:ss)</th>\n",
       "      <th>Featuring</th>\n",
       "      <th>Release Type</th>\n",
       "      <th>Release Type #</th>\n",
       "      <th>Release Date</th>\n",
       "      <th># of Tracks</th>\n",
       "      <th>...</th>\n",
       "      <th>Range Rover</th>\n",
       "      <th>RAV4</th>\n",
       "      <th>Silverado</th>\n",
       "      <th>Toyota</th>\n",
       "      <th>Van</th>\n",
       "      <th>life and death</th>\n",
       "      <th>hip-hop</th>\n",
       "      <th>sentiment</th>\n",
       "      <th>love</th>\n",
       "      <th>himself</th>\n",
       "    </tr>\n",
       "  </thead>\n",
       "  <tbody>\n",
       "    <tr>\n",
       "      <th>0</th>\n",
       "      <td>Fuck Your Ethnicity</td>\n",
       "      <td>Section.80</td>\n",
       "      <td>NaN</td>\n",
       "      <td>1</td>\n",
       "      <td>3:44</td>\n",
       "      <td>Colin Munroe</td>\n",
       "      <td>Studio</td>\n",
       "      <td>1.0</td>\n",
       "      <td>2 Jul 11</td>\n",
       "      <td>16.0</td>\n",
       "      <td>...</td>\n",
       "      <td>NaN</td>\n",
       "      <td>NaN</td>\n",
       "      <td>NaN</td>\n",
       "      <td>NaN</td>\n",
       "      <td>NaN</td>\n",
       "      <td>0.161416</td>\n",
       "      <td>0.031569</td>\n",
       "      <td>0.005612</td>\n",
       "      <td>0.022458</td>\n",
       "      <td>0.107169</td>\n",
       "    </tr>\n",
       "    <tr>\n",
       "      <th>1</th>\n",
       "      <td>Hol' Up</td>\n",
       "      <td>Section.80</td>\n",
       "      <td>NaN</td>\n",
       "      <td>2</td>\n",
       "      <td>2:53</td>\n",
       "      <td>NaN</td>\n",
       "      <td>Studio</td>\n",
       "      <td>1.0</td>\n",
       "      <td>2 Jul 11</td>\n",
       "      <td>16.0</td>\n",
       "      <td>...</td>\n",
       "      <td>NaN</td>\n",
       "      <td>1.0</td>\n",
       "      <td>NaN</td>\n",
       "      <td>NaN</td>\n",
       "      <td>NaN</td>\n",
       "      <td>0.104418</td>\n",
       "      <td>0.115086</td>\n",
       "      <td>0.000000</td>\n",
       "      <td>0.000000</td>\n",
       "      <td>0.033161</td>\n",
       "    </tr>\n",
       "    <tr>\n",
       "      <th>2</th>\n",
       "      <td>A.D.H.D.</td>\n",
       "      <td>Section.80</td>\n",
       "      <td>NaN</td>\n",
       "      <td>3</td>\n",
       "      <td>3:35</td>\n",
       "      <td>NaN</td>\n",
       "      <td>Studio</td>\n",
       "      <td>1.0</td>\n",
       "      <td>2 Jul 11</td>\n",
       "      <td>16.0</td>\n",
       "      <td>...</td>\n",
       "      <td>NaN</td>\n",
       "      <td>NaN</td>\n",
       "      <td>NaN</td>\n",
       "      <td>NaN</td>\n",
       "      <td>NaN</td>\n",
       "      <td>0.142371</td>\n",
       "      <td>0.061826</td>\n",
       "      <td>0.084336</td>\n",
       "      <td>0.043765</td>\n",
       "      <td>0.074203</td>\n",
       "    </tr>\n",
       "    <tr>\n",
       "      <th>3</th>\n",
       "      <td>No Make-Up (Her Vice)</td>\n",
       "      <td>Section.80</td>\n",
       "      <td>NaN</td>\n",
       "      <td>4</td>\n",
       "      <td>3:55</td>\n",
       "      <td>NaN</td>\n",
       "      <td>Studio</td>\n",
       "      <td>1.0</td>\n",
       "      <td>2 Jul 11</td>\n",
       "      <td>16.0</td>\n",
       "      <td>...</td>\n",
       "      <td>NaN</td>\n",
       "      <td>NaN</td>\n",
       "      <td>NaN</td>\n",
       "      <td>NaN</td>\n",
       "      <td>NaN</td>\n",
       "      <td>0.038661</td>\n",
       "      <td>0.000000</td>\n",
       "      <td>0.027829</td>\n",
       "      <td>0.113632</td>\n",
       "      <td>0.177251</td>\n",
       "    </tr>\n",
       "    <tr>\n",
       "      <th>4</th>\n",
       "      <td>Tammy's Song (Her Evils)</td>\n",
       "      <td>Section.80</td>\n",
       "      <td>NaN</td>\n",
       "      <td>5</td>\n",
       "      <td>2:41</td>\n",
       "      <td>NaN</td>\n",
       "      <td>Studio</td>\n",
       "      <td>1.0</td>\n",
       "      <td>2 Jul 11</td>\n",
       "      <td>16.0</td>\n",
       "      <td>...</td>\n",
       "      <td>NaN</td>\n",
       "      <td>NaN</td>\n",
       "      <td>NaN</td>\n",
       "      <td>NaN</td>\n",
       "      <td>NaN</td>\n",
       "      <td>0.095714</td>\n",
       "      <td>0.094015</td>\n",
       "      <td>0.000000</td>\n",
       "      <td>0.041016</td>\n",
       "      <td>0.115280</td>\n",
       "    </tr>\n",
       "  </tbody>\n",
       "</table>\n",
       "<p>5 rows × 243 columns</p>\n",
       "</div>"
      ],
      "text/plain": [
       "                Track Title Release Title Release Subtitle  Track #  \\\n",
       "0       Fuck Your Ethnicity    Section.80              NaN        1   \n",
       "1                   Hol' Up    Section.80              NaN        2   \n",
       "2                  A.D.H.D.    Section.80              NaN        3   \n",
       "3     No Make-Up (Her Vice)    Section.80              NaN        4   \n",
       "4  Tammy's Song (Her Evils)    Section.80              NaN        5   \n",
       "\n",
       "  Track Length (mm:ss)     Featuring Release Type  Release Type #  \\\n",
       "0                 3:44  Colin Munroe       Studio             1.0   \n",
       "1                 2:53           NaN       Studio             1.0   \n",
       "2                 3:35           NaN       Studio             1.0   \n",
       "3                 3:55           NaN       Studio             1.0   \n",
       "4                 2:41           NaN       Studio             1.0   \n",
       "\n",
       "  Release Date  # of Tracks  ... Range Rover RAV4 Silverado Toyota Van  \\\n",
       "0     2 Jul 11         16.0  ...         NaN  NaN       NaN    NaN NaN   \n",
       "1     2 Jul 11         16.0  ...         NaN  1.0       NaN    NaN NaN   \n",
       "2     2 Jul 11         16.0  ...         NaN  NaN       NaN    NaN NaN   \n",
       "3     2 Jul 11         16.0  ...         NaN  NaN       NaN    NaN NaN   \n",
       "4     2 Jul 11         16.0  ...         NaN  NaN       NaN    NaN NaN   \n",
       "\n",
       "  life and death   hip-hop sentiment      love   himself  \n",
       "0       0.161416  0.031569  0.005612  0.022458  0.107169  \n",
       "1       0.104418  0.115086  0.000000  0.000000  0.033161  \n",
       "2       0.142371  0.061826  0.084336  0.043765  0.074203  \n",
       "3       0.038661  0.000000  0.027829  0.113632  0.177251  \n",
       "4       0.095714  0.094015  0.000000  0.041016  0.115280  \n",
       "\n",
       "[5 rows x 243 columns]"
      ]
     },
     "execution_count": 16,
     "metadata": {},
     "output_type": "execute_result"
    }
   ],
   "source": [
    "data = data.join(topic_data_frame)\n",
    "data.head()"
   ]
  },
  {
   "cell_type": "code",
   "execution_count": null,
   "id": "eff330d7",
   "metadata": {},
   "outputs": [],
   "source": [
    "for i in topic_labels:\n",
    "    data.loc[data[i] >= 0.1, i] = 1"
   ]
  }
 ],
 "metadata": {
  "interpreter": {
   "hash": "c774f8753f60dbf4aa57a14cb39d0d874a7eb06ee0d91865f47ca25147f31953"
  },
  "kernelspec": {
   "display_name": "Python 3.9.7 ('tensor')",
   "language": "python",
   "name": "python3"
  },
  "language_info": {
   "codemirror_mode": {
    "name": "ipython",
    "version": 3
   },
   "file_extension": ".py",
   "mimetype": "text/x-python",
   "name": "python",
   "nbconvert_exporter": "python",
   "pygments_lexer": "ipython3",
   "version": "3.9.7"
  }
 },
 "nbformat": 4,
 "nbformat_minor": 5
}
